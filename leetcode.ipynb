{
 "cells": [
  {
   "cell_type": "markdown",
   "metadata": {},
   "source": [
    "### 给定 nums = [2, 7, 11, 15], target = 9\n",
    "### 因为 nums[0] + nums[1] = 2 + 7 = 9\n",
    "### 所以返回 [0, 1]\n",
    "#### https://leetcode-cn.com/problems/two-sum/description/"
   ]
  },
  {
   "cell_type": "code",
   "execution_count": 156,
   "metadata": {},
   "outputs": [
    {
     "data": {
      "text/plain": [
       "[0, 1]"
      ]
     },
     "execution_count": 156,
     "metadata": {},
     "output_type": "execute_result"
    }
   ],
   "source": [
    "class Solution:\n",
    "    def twoSum(self, nums, target):\n",
    "        for i in range(len(nums)):\n",
    "            for j in range(i,len(nums)):\n",
    "                if nums[i]+nums[j]==target:\n",
    "                    return [i,j]\n",
    "a=Solution()\n",
    "a.twoSum([2,7,11,15],9)"
   ]
  },
  {
   "cell_type": "markdown",
   "metadata": {},
   "source": [
    "### 假设你有一个很长的花坛，一部分地块种植了花，另一部分却没有。可是，花卉不能种植在相邻的地块上，它们会争夺水源，两者都会死去。\n",
    "\n",
    "### 给定一个花坛（表示为一个数组包含0和1，其中0表示没种植花，1表示种植了花），和一个数 n 。能否在不打破种植规则的情况下种入 n 朵花？能则返回True，不能则返回False。\n",
    "#### https://leetcode-cn.com/problems/can-place-flowers/description/"
   ]
  },
  {
   "cell_type": "code",
   "execution_count": 154,
   "metadata": {},
   "outputs": [
    {
     "name": "stdout",
     "output_type": "stream",
     "text": [
      "False\n"
     ]
    }
   ],
   "source": [
    "flowerbed=[1,0,0,0,0,0,1,0]\n",
    "n=3\n",
    "\n",
    "class Solution:\n",
    "    def canPlaceFlowers(self, flowerbed, n):\n",
    "        i=0\n",
    "        if n==0:                                          #几种特殊情况\n",
    "            return True\n",
    "        elif flowerbed==[0]:\n",
    "            if n==1:\n",
    "                return True\n",
    "        elif flowerbed==[1]:\n",
    "            return False\n",
    "        elif len(flowerbed)/2+1>=n:                       #就算全为0的情况下也至少要这么多0，否则直接判断false\n",
    "            while i<(len(flowerbed)):\n",
    "                if flowerbed[i]==0:                       #当前位置是0\n",
    "                    if i==0 and flowerbed[i+1]==0:        #在第一个位置，且下一个为0，i的判定由小到大\n",
    "                            #flowerbed[i]=1\n",
    "                            n-=1\n",
    "                            i+=1\n",
    "                    elif i<len(flowerbed)-1:\n",
    "                        if flowerbed[i+1]==0 and flowerbed[i-1]==0:   #当前的上一个和下一个都是0\n",
    "                            #flowerbed[i]=1               #测试的时候判定位置的\n",
    "                            i+=1\n",
    "                            n-=1\n",
    "                    elif i==len(flowerbed)-1:             #在最后一个\n",
    "                        if flowerbed[i-1]==0:\n",
    "                            #flowerbed[i]=1\n",
    "                            n-=1\n",
    "                i+=1                                      #加上前面的i+=1，如果是合适的位置i就会加两次，所以flowerbed[]=1可以省略\n",
    "                if n<=0:\n",
    "                    return True\n",
    "        return False\n",
    "\n",
    "a=Solution().canPlaceFlowers(flowerbed,n)\n",
    "print(a)"
   ]
  },
  {
   "cell_type": "code",
   "execution_count": null,
   "metadata": {},
   "outputs": [],
   "source": []
  }
 ],
 "metadata": {
  "kernelspec": {
   "display_name": "Python 3",
   "language": "python",
   "name": "python3"
  },
  "language_info": {
   "codemirror_mode": {
    "name": "ipython",
    "version": 3
   },
   "file_extension": ".py",
   "mimetype": "text/x-python",
   "name": "python",
   "nbconvert_exporter": "python",
   "pygments_lexer": "ipython3",
   "version": "3.6.0"
  }
 },
 "nbformat": 4,
 "nbformat_minor": 2
}
